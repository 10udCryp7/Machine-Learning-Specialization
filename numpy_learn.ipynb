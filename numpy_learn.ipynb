{
 "cells": [
  {
   "cell_type": "markdown",
   "metadata": {},
   "source": [
    "Using np.zeros to create a numpy matrix, first param can be a integer or tuple.\n",
    "Use tuple to make a multi-demensional array/matrix.\n",
    "NumPy routines which allocate memory and fill arrays with value."
   ]
  },
  {
   "cell_type": "code",
   "execution_count": null,
   "metadata": {},
   "outputs": [],
   "source": [
    "import numpy as np\n",
    "a = np.zeros((4,2,3))\n",
    "print(a)\n",
    "print(a.shape)"
   ]
  },
  {
   "cell_type": "markdown",
   "metadata": {},
   "source": [
    "We can use many methods to create a sample, such as: np.random.rand(), np.random.random(), np.random.random_sample().\n",
    "All of them return matrix with values in (0,1).\n",
    "np.random.random_sample() is the newest, which is the most recommended method, and can have shape as input argument."
   ]
  },
  {
   "cell_type": "code",
   "execution_count": 4,
   "metadata": {},
   "outputs": [
    {
     "name": "stdout",
     "output_type": "stream",
     "text": [
      "[[0.90473656 0.85504913 0.62337834]\n",
      " [0.20795681 0.23784495 0.04553333]\n",
      " [0.33678925 0.29971299 0.44281961]]\n"
     ]
    }
   ],
   "source": [
    "a = np.random.random_sample((3,3))\n",
    "print(a)"
   ]
  },
  {
   "cell_type": "markdown",
   "metadata": {},
   "source": [
    "NumPy routines which allocate memory and fill arrays with value but do not accept shape as input argument."
   ]
  },
  {
   "cell_type": "code",
   "execution_count": 8,
   "metadata": {},
   "outputs": [
    {
     "name": "stdout",
     "output_type": "stream",
     "text": [
      "np.arange(4.):     a = [0. 1. 2. 3.], a shape = (4,), a data type = float64\n",
      "np.random.rand(4): a = [0.4853188  0.0577209  0.05784702 0.98934162], a shape = (4,), a data type = float64\n"
     ]
    }
   ],
   "source": [
    "a = np.arange(4.);              print(f\"np.arange(4.):     a = {a}, a shape = {a.shape}, a data type = {a.dtype}\")\n",
    "a = np.random.rand(4);          print(f\"np.random.rand(4): a = {a}, a shape = {a.shape}, a data type = {a.dtype}\")"
   ]
  },
  {
   "cell_type": "markdown",
   "metadata": {},
   "source": [
    "NumPy routines which allocate memory and fill with user specified values."
   ]
  },
  {
   "cell_type": "code",
   "execution_count": 9,
   "metadata": {},
   "outputs": [
    {
     "name": "stdout",
     "output_type": "stream",
     "text": [
      "np.array([5,4,3,2]):  a = [5 4 3 2],     a shape = (4,), a data type = int32\n",
      "np.array([5.,4,3,2]): a = [5. 4. 3. 2.], a shape = (4,), a data type = float64\n"
     ]
    }
   ],
   "source": [
    "a = np.array([5,4,3,2]);  print(f\"np.array([5,4,3,2]):  a = {a},     a shape = {a.shape}, a data type = {a.dtype}\")\n",
    "a = np.array([5.,4,3,2]); print(f\"np.array([5.,4,3,2]): a = {a}, a shape = {a.shape}, a data type = {a.dtype}\")"
   ]
  },
  {
   "cell_type": "markdown",
   "metadata": {},
   "source": [
    "Slicing creates an array of indices using a set of three values (start:stop:step)."
   ]
  },
  {
   "cell_type": "code",
   "execution_count": 15,
   "metadata": {},
   "outputs": [
    {
     "name": "stdout",
     "output_type": "stream",
     "text": [
      "[0.01632076 0.8706762  0.54598966 0.32587853 0.09604277 0.51671067\n",
      " 0.11704239 0.34234209 0.23211286 0.53398493]\n",
      "[0.54598966 0.09604277 0.11704239]\n",
      "[[0.94985589 0.16799599 0.37256549 0.61725078]\n",
      " [0.22003995 0.94159407 0.18567294 0.60589771]\n",
      " [0.35155902 0.98973286 0.89249208 0.55473746]\n",
      " [0.0424125  0.18477165 0.49668163 0.22501484]]\n",
      "[0.18567294 0.60589771]\n"
     ]
    }
   ],
   "source": [
    "a = np.random.random_sample(10)\n",
    "print(a)\n",
    "print(a[2:8:2])\n",
    "b = np.random.random_sample((4,4))\n",
    "print(b)\n",
    "print(b[1, 2:4:1])"
   ]
  },
  {
   "cell_type": "markdown",
   "metadata": {},
   "source": [
    "There are some Single Vector Operations"
   ]
  },
  {
   "cell_type": "code",
   "execution_count": 23,
   "metadata": {},
   "outputs": [
    {
     "name": "stdout",
     "output_type": "stream",
     "text": [
      "negative of a: [-1 -2 -3 -4]\n",
      "Sum:  10\n",
      "mean of a: 2.5\n",
      "square of each value in a:  [ 1  4  9 16]\n"
     ]
    }
   ],
   "source": [
    "a = np.array([1,2,3,4])\n",
    "\n",
    "negative_a = -a\n",
    "print(f\"negative of a: {negative_a}\")\n",
    "\n",
    "sum_a = np.sum(a)\n",
    "print(f\"Sum:  {sum_a}\")\n",
    "\n",
    "mean_a = np.mean(a)\n",
    "print(f\"mean of a: {mean_a}\")\n",
    "\n",
    "square_a = a**2\n",
    "print(f\"square of each value in a:  {square_a}\")\n"
   ]
  },
  {
   "cell_type": "markdown",
   "metadata": {},
   "source": [
    "Vector Element-wise Operations.\n",
    "Vector must be in the same size!!!"
   ]
  },
  {
   "cell_type": "code",
   "execution_count": 35,
   "metadata": {},
   "outputs": [
    {
     "name": "stdout",
     "output_type": "stream",
     "text": [
      "sum of a + b\n",
      "[[[4 4]\n",
      "  [4 4]]\n",
      "\n",
      " [[6 6]\n",
      "  [6 6]]]\n"
     ]
    }
   ],
   "source": [
    "a = np.array([[[1,1],[1,1]],[[2,2],[2,2]]])\n",
    "b = np.array([[[3,3],[3,3]], [[4,4],[4,4]]])\n",
    "sum_a_b = a + b\n",
    "print(f\"sum of a + b\\n{sum_a_b}\")"
   ]
  },
  {
   "cell_type": "markdown",
   "metadata": {},
   "source": [
    "Scalar Vector operations."
   ]
  },
  {
   "cell_type": "code",
   "execution_count": 37,
   "metadata": {},
   "outputs": [
    {
     "name": "stdout",
     "output_type": "stream",
     "text": [
      "a is scaled by 5: \n",
      "[[[ 5  5]\n",
      "  [ 5  5]]\n",
      "\n",
      " [[10 10]\n",
      "  [10 10]]]\n"
     ]
    }
   ],
   "source": [
    "a = np.array([[[1,1],[1,1]],[[2,2],[2,2]]])\n",
    "a_scale_5 = a*5\n",
    "print(f\"a is scaled by 5: \\n{a_scale_5}\")"
   ]
  },
  {
   "cell_type": "markdown",
   "metadata": {},
   "source": [
    "Vector Vector dot product."
   ]
  },
  {
   "cell_type": "code",
   "execution_count": 44,
   "metadata": {},
   "outputs": [
    {
     "name": "stdout",
     "output_type": "stream",
     "text": [
      "a: [0 1 2 3]\n",
      "b: [0 2 4 6]\n",
      "dot of a and b is: 28\n",
      "each value of a times b is: [ 0  2  8 18]\n",
      "[ 0  2  8 18]\n"
     ]
    }
   ],
   "source": [
    "a = np.arange(4)\n",
    "b = 2*np.arange(4)\n",
    "print(f\"a: {a}\")\n",
    "print(f\"b: {b}\")\n",
    "\n",
    "dot_a_b = np.dot(a,b)\n",
    "print(f\"dot of a and b is: {dot_a_b}\") # 0*0 + 1*2 + 2*4 + 3*6\n",
    "multi_a_b = a*b\n",
    "print(f\"each value of a times b is: {multi_a_b}\") # [0*0, 1*2, 2*4, 3*6]\n",
    "mul_a_b = np.multiply(a,b)\n",
    "print(mul_a_b)"
   ]
  },
  {
   "cell_type": "markdown",
   "metadata": {},
   "source": [
    "Test speed"
   ]
  },
  {
   "cell_type": "code",
   "execution_count": 47,
   "metadata": {},
   "outputs": [
    {
     "name": "stdout",
     "output_type": "stream",
     "text": [
      "np.dot(a, b) =  2501072.5817\n",
      "Vectorized version duration: 5.0457 ms \n",
      "my_dot(a, b) =  2501072.5817\n",
      "loop version duration: 2783.4256 ms \n"
     ]
    }
   ],
   "source": [
    "import time\n",
    "def my_dot(a, b): \n",
    "    \"\"\"\n",
    "   Compute the dot product of two vectors\n",
    " \n",
    "    Args:\n",
    "      a (ndarray (n,)):  input vector \n",
    "      b (ndarray (n,)):  input vector with same dimension as a\n",
    "    \n",
    "    Returns:\n",
    "      x (scalar): \n",
    "    \"\"\"\n",
    "    x=0\n",
    "    for i in range(a.shape[0]):\n",
    "        x = x + a[i] * b[i]\n",
    "    return x\n",
    "np.random.seed(1)\n",
    "a = np.random.rand(10000000)  # very large arrays\n",
    "b = np.random.rand(10000000)\n",
    "\n",
    "tic = time.time()  # capture start time\n",
    "c = np.dot(a, b)\n",
    "toc = time.time()  # capture end time\n",
    "\n",
    "print(f\"np.dot(a, b) =  {c:.4f}\")\n",
    "print(f\"Vectorized version duration: {1000*(toc-tic):.4f} ms \")\n",
    "\n",
    "tic = time.time()  # capture start time\n",
    "c = my_dot(a,b)\n",
    "toc = time.time()  # capture end time\n",
    "\n",
    "print(f\"my_dot(a, b) =  {c:.4f}\")\n",
    "print(f\"loop version duration: {1000*(toc-tic):.4f} ms \")\n",
    "\n",
    "del(a);del(b)  #remove these big arrays from memory"
   ]
  },
  {
   "cell_type": "markdown",
   "metadata": {},
   "source": [
    "Bonus Test"
   ]
  },
  {
   "cell_type": "code",
   "execution_count": 48,
   "metadata": {},
   "outputs": [
    {
     "name": "stdout",
     "output_type": "stream",
     "text": [
      "dot of X_train and w [19 41]\n"
     ]
    }
   ],
   "source": [
    "X_train = [[1,2], [3,4]]\n",
    "w = [3, 8]\n",
    "dot_X_w = np.dot(X_train, w)\n",
    "print(f\"dot of X_train and w {dot_X_w}\")"
   ]
  },
  {
   "cell_type": "markdown",
   "metadata": {},
   "source": [
    "Reshape\n",
    "The previous example used reshape to shape the array.\n",
    "a = np.arange(6).reshape(-1, 2)\n",
    "This line of code first created a 1-D Vector of six elements. It then reshaped that vector into a 2-D array using the reshape command. This could have been written:\n",
    "a = np.arange(6).reshape(3, 2)\n",
    "To arrive at the same 3 row, 2 column array. The -1 argument tells the routine to compute the number of rows given the size of the array and the number of columns"
   ]
  },
  {
   "cell_type": "code",
   "execution_count": null,
   "metadata": {},
   "outputs": [],
   "source": [
    "#vector indexing operations on matrices\n",
    "a = np.arange(6).reshape(-1, 2)   #reshape is a convenient way to create matrices\n",
    "print(f\"a.shape: {a.shape}, \\na= {a}\")\n",
    "\n",
    "#access an element\n",
    "print(f\"\\na[2,0].shape:   {a[2, 0].shape}, a[2,0] = {a[2, 0]},     type(a[2,0]) = {type(a[2, 0])} Accessing an element returns a scalar\\n\")\n",
    "\n",
    "#access a row\n",
    "print(f\"a[2].shape:   {a[2].shape}, a[2]   = {a[2]}, type(a[2])   = {type(a[2])}\")"
   ]
  },
  {
   "cell_type": "markdown",
   "metadata": {},
   "source": [
    "Bonus Test"
   ]
  },
  {
   "cell_type": "code",
   "execution_count": 53,
   "metadata": {},
   "outputs": [
    {
     "name": "stdout",
     "output_type": "stream",
     "text": [
      "a after reshape\n",
      "[[1 2]\n",
      " [3 4]\n",
      " [5 6]\n",
      " [7 8]]\n"
     ]
    }
   ],
   "source": [
    "a = np.array([1,2,3,4,5,6,7,8])\n",
    "a= a.reshape(4,-1)\n",
    "print(f\"a after reshape\\n{a}\")"
   ]
  }
 ],
 "metadata": {
  "kernelspec": {
   "display_name": "Python 3",
   "language": "python",
   "name": "python3"
  },
  "language_info": {
   "codemirror_mode": {
    "name": "ipython",
    "version": 3
   },
   "file_extension": ".py",
   "mimetype": "text/x-python",
   "name": "python",
   "nbconvert_exporter": "python",
   "pygments_lexer": "ipython3",
   "version": "3.11.1"
  }
 },
 "nbformat": 4,
 "nbformat_minor": 2
}
