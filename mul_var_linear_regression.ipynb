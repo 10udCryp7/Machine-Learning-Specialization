{
 "cells": [
  {
   "cell_type": "markdown",
   "metadata": {},
   "source": [
    "\n",
    "Size (sqft)\t    Number of Bedrooms\t    Number of floors\t    Age of Home\t        Price (1000s dollars)\n",
    "2104\t        5\t                    1\t                    45\t                460\n",
    "1416\t        3\t                    2\t                    40\t                232\n",
    "852\t            2\t                    1\t                    35\t                178\n"
   ]
  },
  {
   "cell_type": "code",
   "execution_count": 13,
   "metadata": {},
   "outputs": [
    {
     "name": "stdout",
     "output_type": "stream",
     "text": [
      "Data of X_train: \n",
      "[[2104    5    1   45]\n",
      " [1416    3    2   40]\n",
      " [ 852    2    1   35]]\n",
      "Data of y_train: \n",
      "[460 232 178]\n",
      "3\n"
     ]
    }
   ],
   "source": [
    "import matplotlib as plt\n",
    "import numpy as np\n",
    "\n",
    "#Data\n",
    "X_train = np.array([[2104, 5, 1, 45], [1416, 3, 2, 40], [852, 2, 1, 35]])\n",
    "y_train = np.array([460, 232, 178])\n",
    "\n",
    "#Show Data\n",
    "print(f\"Data of X_train: \\n{X_train}\")\n",
    "print(f\"Data of y_train: \\n{y_train}\")"
   ]
  },
  {
   "cell_type": "markdown",
   "metadata": {},
   "source": [
    "Initial value of w and b (we choose it by ourselves)"
   ]
  },
  {
   "cell_type": "code",
   "execution_count": 4,
   "metadata": {},
   "outputs": [
    {
     "name": "stdout",
     "output_type": "stream",
     "text": [
      "w_init shape: (4,), b_init type: <class 'float'>\n"
     ]
    }
   ],
   "source": [
    "b_init = 785.1811367994083\n",
    "w_init = np.array([ 0.39133535, 18.75376741, -53.36032453, -26.42131618])\n",
    "print(f\"w_init shape: {w_init.shape}, b_init type: {type(b_init)}\")"
   ]
  },
  {
   "cell_type": "markdown",
   "metadata": {},
   "source": [
    "predict function without using dot"
   ]
  },
  {
   "cell_type": "code",
   "execution_count": 8,
   "metadata": {},
   "outputs": [],
   "source": [
    "def predict_single_loop(x, w, b):\n",
    "    n = x.shape[0]\n",
    "    predict_val = 0\n",
    "    for i in range(n):\n",
    "        predict_val += x[i]*w[i]\n",
    "    predict_val += b\n",
    "    return predict_val"
   ]
  },
  {
   "cell_type": "markdown",
   "metadata": {},
   "source": [
    "predicting test"
   ]
  },
  {
   "cell_type": "code",
   "execution_count": 9,
   "metadata": {},
   "outputs": [
    {
     "name": "stdout",
     "output_type": "stream",
     "text": [
      "predicted value is: 459.9999976194083\n"
     ]
    }
   ],
   "source": [
    "predict_test_val = predict_single_loop(X_train[0,:], w_init, b_init)\n",
    "print(f\"predicted value is: {predict_test_val}\")"
   ]
  },
  {
   "cell_type": "markdown",
   "metadata": {},
   "source": [
    "Single prediction function using dot"
   ]
  },
  {
   "cell_type": "code",
   "execution_count": 10,
   "metadata": {},
   "outputs": [],
   "source": [
    "def predict(x, w, b):\n",
    "    return np.dot(x, w) + b"
   ]
  },
  {
   "cell_type": "markdown",
   "metadata": {},
   "source": [
    "Test"
   ]
  },
  {
   "cell_type": "code",
   "execution_count": 11,
   "metadata": {},
   "outputs": [
    {
     "name": "stdout",
     "output_type": "stream",
     "text": [
      "predicted value is: 459.9999976194083\n"
     ]
    }
   ],
   "source": [
    "predict_val = predict(X_train[0,:], w_init, b_init)\n",
    "print(f\"predicted value is: {predict_val}\")"
   ]
  },
  {
   "cell_type": "markdown",
   "metadata": {},
   "source": [
    "develop Cost Funtion to compute cost"
   ]
  },
  {
   "cell_type": "code",
   "execution_count": 15,
   "metadata": {},
   "outputs": [],
   "source": [
    "def compute_cost(X, y, w, b):\n",
    "    #number of sample\n",
    "    m = y.shape[0]\n",
    "    cost = 0\n",
    "    for i in range(m):\n",
    "        different = predict(X[i,:], w, b) - y[i]\n",
    "        different_square = different**2\n",
    "        cost += different_square\n",
    "    cost/=2*m\n",
    "    return cost\n",
    "\n",
    "    \n"
   ]
  },
  {
   "cell_type": "markdown",
   "metadata": {},
   "source": [
    "Test cost"
   ]
  },
  {
   "cell_type": "code",
   "execution_count": 19,
   "metadata": {},
   "outputs": [
    {
     "name": "stdout",
     "output_type": "stream",
     "text": [
      "cost value is: 1.5578904428966628e-12\n"
     ]
    }
   ],
   "source": [
    "cost = compute_cost(X_train, y_train, w_init, b_init)\n",
    "print(f\"cost value is: {cost}\")"
   ]
  },
  {
   "cell_type": "markdown",
   "metadata": {},
   "source": [
    "Compute gradient descent"
   ]
  },
  {
   "cell_type": "code",
   "execution_count": 31,
   "metadata": {},
   "outputs": [],
   "source": [
    "def compute_gradient(x, y, w, b):\n",
    "    m = x.shape[0]\n",
    "    n = x.shape[1]\n",
    "    dj_dw = np.zeros((n))\n",
    "    dj_db = 0.0\n",
    "    for i in range(m):\n",
    "        f_wb_i = np.dot(x[i,:],w) + b\n",
    "        err = f_wb_i - y[i]\n",
    "        for j in range(n):\n",
    "            dj_dw[j] += err * x[i, j]\n",
    "        dj_db += err\n",
    "    dj_dw /= m\n",
    "    dj_db /= m\n",
    "    return dj_dw, dj_db\n"
   ]
  },
  {
   "cell_type": "markdown",
   "metadata": {},
   "source": [
    "Test"
   ]
  },
  {
   "cell_type": "code",
   "execution_count": 32,
   "metadata": {},
   "outputs": [
    {
     "name": "stdout",
     "output_type": "stream",
     "text": [
      "dj_dw at initial w,b: \n",
      " [-2.72623577e-03 -6.27197263e-06 -2.21745578e-06 -6.92403391e-05]\n",
      "dj_db at initial w,b: -1.6739251501955248e-06\n"
     ]
    }
   ],
   "source": [
    "#Compute and display gradient \n",
    "tmp_dj_dw, tmp_dj_db = compute_gradient(X_train, y_train, w_init, b_init)\n",
    "print(f'dj_dw at initial w,b: \\n {tmp_dj_dw}')\n",
    "print(f'dj_db at initial w,b: {tmp_dj_db}')"
   ]
  },
  {
   "cell_type": "markdown",
   "metadata": {},
   "source": [
    "Gradient Descent"
   ]
  },
  {
   "cell_type": "code",
   "execution_count": 39,
   "metadata": {},
   "outputs": [],
   "source": [
    "def gradient_descent(x, y, w, b, alpha, num):\n",
    "    w_train = w\n",
    "    b_train = b\n",
    "    w_temp = w\n",
    "    b_temp = b\n",
    "    J_hist = []\n",
    "    J_hist.append(compute_cost(x,y,w,b))\n",
    "    for number in range(num):\n",
    "        dj_dw, dj_db = compute_gradient(x, y, w_train, b_train)\n",
    "        w_temp = w_train - alpha*dj_dw\n",
    "        b_temp = b_train - alpha*dj_db\n",
    "        w_train = w_temp\n",
    "        b_train = b_temp\n",
    "        J_hist.append(compute_cost(x,y,w_train,b_train))\n",
    "        if (number % 100 == 0):\n",
    "            print(f\"Cost at {number}: {J_hist[-1]}\")\n",
    "    return w_train, b_train, J_hist\n"
   ]
  },
  {
   "cell_type": "markdown",
   "metadata": {},
   "source": [
    "Test"
   ]
  },
  {
   "cell_type": "code",
   "execution_count": 40,
   "metadata": {},
   "outputs": [
    {
     "name": "stdout",
     "output_type": "stream",
     "text": [
      "Cost at 0: 2529.4629522316304\n",
      "Cost at 100: 695.990315835203\n",
      "Cost at 200: 694.9206979323061\n",
      "Cost at 300: 693.8604297851192\n",
      "Cost at 400: 692.8094286135915\n",
      "Cost at 500: 691.7676123706057\n",
      "Cost at 600: 690.7348997354997\n",
      "Cost at 700: 689.711210107616\n",
      "Cost at 800: 688.6964635999458\n",
      "Cost at 900: 687.6905810327947\n",
      "prediction: 426.19, target value: 460\n",
      "prediction: 286.17, target value: 232\n",
      "prediction: 171.47, target value: 178\n"
     ]
    }
   ],
   "source": [
    "# initialize parameters\n",
    "initial_w = np.zeros_like(w_init)\n",
    "initial_b = 0.\n",
    "alpha = 5.0e-7\n",
    "ite = 1000\n",
    "w_final, b_final, J_hist = gradient_descent(X_train, y_train, initial_w, initial_b, \n",
    "                                                    alpha, ite)\n",
    "m,_ = X_train.shape\n",
    "for i in range(m):\n",
    "    print(f\"prediction: {np.dot(X_train[i], w_final) + b_final:0.2f}, target value: {y_train[i]}\")"
   ]
  }
 ],
 "metadata": {
  "kernelspec": {
   "display_name": "Python 3",
   "language": "python",
   "name": "python3"
  },
  "language_info": {
   "codemirror_mode": {
    "name": "ipython",
    "version": 3
   },
   "file_extension": ".py",
   "mimetype": "text/x-python",
   "name": "python",
   "nbconvert_exporter": "python",
   "pygments_lexer": "ipython3",
   "version": "3.11.1"
  }
 },
 "nbformat": 4,
 "nbformat_minor": 2
}
